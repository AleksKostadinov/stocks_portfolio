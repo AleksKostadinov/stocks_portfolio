{
 "cells": [
  {
   "cell_type": "code",
   "execution_count": 1,
   "id": "9e2655d1-6110-4018-a7fd-6f28c0395312",
   "metadata": {
    "tags": []
   },
   "outputs": [
    {
     "name": "stdout",
     "output_type": "stream",
     "text": [
      "==============================\n",
      "        Main Menu\n",
      "==============================\n",
      "[1] View stock\n",
      "[2] Add stock\n",
      "[3] Search by ticker\n",
      "[4] Edit stock\n",
      "[5] Delete stock\n",
      "[0] Exit\n",
      "\n",
      "==============================\n"
     ]
    },
    {
     "name": "stdin",
     "output_type": "stream",
     "text": [
      "Enter your selection:  2\n"
     ]
    },
    {
     "name": "stdout",
     "output_type": "stream",
     "text": [
      "==============================\n"
     ]
    },
    {
     "name": "stdin",
     "output_type": "stream",
     "text": [
      "Add ticker:  amd\n"
     ]
    },
    {
     "name": "stdout",
     "output_type": "stream",
     "text": [
      "Ticker AMD does not exist. Adding as a new stock.\n"
     ]
    },
    {
     "name": "stdin",
     "output_type": "stream",
     "text": [
      "Enter shares bought:  9\n",
      "Enter price per share bought:  110\n"
     ]
    },
    {
     "name": "stdout",
     "output_type": "stream",
     "text": [
      "Ticker AMD added!\n",
      "==============================\n",
      "        Main Menu\n",
      "==============================\n",
      "[1] View stock\n",
      "[2] Add stock\n",
      "[3] Search by ticker\n",
      "[4] Edit stock\n",
      "[5] Delete stock\n",
      "[0] Exit\n",
      "\n",
      "==============================\n"
     ]
    },
    {
     "name": "stdin",
     "output_type": "stream",
     "text": [
      "Enter your selection:  1\n"
     ]
    },
    {
     "name": "stdout",
     "output_type": "stream",
     "text": [
      "==============================\n",
      "[1] AMD\n",
      "[0] Back\n",
      "\n"
     ]
    },
    {
     "name": "stdin",
     "output_type": "stream",
     "text": [
      "Enter the number of a stock to view details or [B] to go back:  1\n"
     ]
    },
    {
     "name": "stdout",
     "output_type": "stream",
     "text": [
      "======================================================================\n",
      "\n",
      "                Ticker: AMD,\n",
      "                Full Name: Advanced Micro Devices, Inc.,\n",
      "                Shares: 9.00,\n",
      "                Price per Share: 110.00,\n",
      "                Current Price: 108.79,\n",
      "                Total Cost: 990.0,\n",
      "                Current Cost: 979.11,\n",
      "                Difference: -10.89\n",
      "\n",
      "======================================================================\n",
      "\n"
     ]
    },
    {
     "name": "stdin",
     "output_type": "stream",
     "text": [
      "Press Enter to continue... \n"
     ]
    },
    {
     "name": "stdout",
     "output_type": "stream",
     "text": [
      "[1] AMD\n",
      "[0] Back\n",
      "\n"
     ]
    },
    {
     "name": "stdin",
     "output_type": "stream",
     "text": [
      "Enter the number of a stock to view details or [B] to go back:  0\n"
     ]
    },
    {
     "name": "stdout",
     "output_type": "stream",
     "text": [
      "==============================\n",
      "        Main Menu\n",
      "==============================\n",
      "[1] View stock\n",
      "[2] Add stock\n",
      "[3] Search by ticker\n",
      "[4] Edit stock\n",
      "[5] Delete stock\n",
      "[0] Exit\n",
      "\n",
      "==============================\n"
     ]
    },
    {
     "name": "stdin",
     "output_type": "stream",
     "text": [
      "Enter your selection:  2\n"
     ]
    },
    {
     "name": "stdout",
     "output_type": "stream",
     "text": [
      "==============================\n"
     ]
    },
    {
     "name": "stdin",
     "output_type": "stream",
     "text": [
      "Add ticker:  tsm\n"
     ]
    },
    {
     "name": "stdout",
     "output_type": "stream",
     "text": [
      "Ticker TSM does not exist. Adding as a new stock.\n"
     ]
    },
    {
     "name": "stdin",
     "output_type": "stream",
     "text": [
      "Enter shares bought:  4\n",
      "Enter price per share bought:  98.4\n"
     ]
    },
    {
     "name": "stdout",
     "output_type": "stream",
     "text": [
      "Ticker TSM added!\n",
      "==============================\n",
      "        Main Menu\n",
      "==============================\n",
      "[1] View stock\n",
      "[2] Add stock\n",
      "[3] Search by ticker\n",
      "[4] Edit stock\n",
      "[5] Delete stock\n",
      "[0] Exit\n",
      "\n",
      "==============================\n"
     ]
    },
    {
     "name": "stdin",
     "output_type": "stream",
     "text": [
      "Enter your selection:  2\n"
     ]
    },
    {
     "name": "stdout",
     "output_type": "stream",
     "text": [
      "==============================\n"
     ]
    },
    {
     "name": "stdin",
     "output_type": "stream",
     "text": [
      "Add ticker:  tsm\n"
     ]
    },
    {
     "name": "stdout",
     "output_type": "stream",
     "text": [
      "Adding more shares to the existing stock with ticker: TSM\n"
     ]
    },
    {
     "name": "stdin",
     "output_type": "stream",
     "text": [
      "Enter the number of additional shares:  3\n",
      "Enter the price per share for the new purchase:  93\n"
     ]
    },
    {
     "name": "stdout",
     "output_type": "stream",
     "text": [
      "Shares added to TSM successfully!\n",
      "==============================\n",
      "        Main Menu\n",
      "==============================\n",
      "[1] View stock\n",
      "[2] Add stock\n",
      "[3] Search by ticker\n",
      "[4] Edit stock\n",
      "[5] Delete stock\n",
      "[0] Exit\n",
      "\n",
      "==============================\n"
     ]
    },
    {
     "name": "stdin",
     "output_type": "stream",
     "text": [
      "Enter your selection:  2\n"
     ]
    },
    {
     "name": "stdout",
     "output_type": "stream",
     "text": [
      "==============================\n"
     ]
    },
    {
     "name": "stdin",
     "output_type": "stream",
     "text": [
      "Add ticker:  tsm\n"
     ]
    },
    {
     "name": "stdout",
     "output_type": "stream",
     "text": [
      "Adding more shares to the existing stock with ticker: TSM\n"
     ]
    },
    {
     "name": "stdin",
     "output_type": "stream",
     "text": [
      "Enter the number of additional shares:  2\n",
      "Enter the price per share for the new purchase:  95\n"
     ]
    },
    {
     "name": "stdout",
     "output_type": "stream",
     "text": [
      "Shares added to TSM successfully!\n",
      "==============================\n",
      "        Main Menu\n",
      "==============================\n",
      "[1] View stock\n",
      "[2] Add stock\n",
      "[3] Search by ticker\n",
      "[4] Edit stock\n",
      "[5] Delete stock\n",
      "[0] Exit\n",
      "\n",
      "==============================\n"
     ]
    },
    {
     "name": "stdin",
     "output_type": "stream",
     "text": [
      "Enter your selection:  1\n"
     ]
    },
    {
     "name": "stdout",
     "output_type": "stream",
     "text": [
      "==============================\n",
      "[1] AMD\n",
      "[2] TSM\n",
      "[0] Back\n",
      "\n"
     ]
    },
    {
     "name": "stdin",
     "output_type": "stream",
     "text": [
      "Enter the number of a stock to view details or [B] to go back:  2\n"
     ]
    },
    {
     "name": "stdout",
     "output_type": "stream",
     "text": [
      "======================================================================\n",
      "\n",
      "                Ticker: TSM,\n",
      "                Full Name: Taiwan Semiconductor Manufacturing Company Limited,\n",
      "                Shares: 9.00,\n",
      "                Price per Share: 95.85,\n",
      "                Current Price: 92.42,\n",
      "                Total Cost: 862.63,\n",
      "                Current Cost: 831.78,\n",
      "                Difference: -30.85\n",
      "\n",
      "======================================================================\n",
      "\n"
     ]
    },
    {
     "name": "stdin",
     "output_type": "stream",
     "text": [
      "Press Enter to continue... jnj\n"
     ]
    },
    {
     "name": "stdout",
     "output_type": "stream",
     "text": [
      "[1] AMD\n",
      "[2] TSM\n",
      "[0] Back\n",
      "\n"
     ]
    },
    {
     "name": "stdin",
     "output_type": "stream",
     "text": [
      "Enter the number of a stock to view details or [B] to go back:  0\n"
     ]
    },
    {
     "name": "stdout",
     "output_type": "stream",
     "text": [
      "==============================\n",
      "        Main Menu\n",
      "==============================\n",
      "[1] View stock\n",
      "[2] Add stock\n",
      "[3] Search by ticker\n",
      "[4] Edit stock\n",
      "[5] Delete stock\n",
      "[0] Exit\n",
      "\n",
      "==============================\n"
     ]
    },
    {
     "name": "stdin",
     "output_type": "stream",
     "text": [
      "Enter your selection:  2\n"
     ]
    },
    {
     "name": "stdout",
     "output_type": "stream",
     "text": [
      "==============================\n"
     ]
    },
    {
     "name": "stdin",
     "output_type": "stream",
     "text": [
      "Add ticker:  jnj\n"
     ]
    },
    {
     "name": "stdout",
     "output_type": "stream",
     "text": [
      "Ticker JNJ does not exist. Adding as a new stock.\n"
     ]
    },
    {
     "name": "stdin",
     "output_type": "stream",
     "text": [
      "Enter shares bought:  3\n",
      "Enter price per share bought:  168.89\n"
     ]
    },
    {
     "name": "stdout",
     "output_type": "stream",
     "text": [
      "Ticker JNJ added!\n",
      "==============================\n",
      "        Main Menu\n",
      "==============================\n",
      "[1] View stock\n",
      "[2] Add stock\n",
      "[3] Search by ticker\n",
      "[4] Edit stock\n",
      "[5] Delete stock\n",
      "[0] Exit\n",
      "\n",
      "==============================\n"
     ]
    },
    {
     "name": "stdin",
     "output_type": "stream",
     "text": [
      "Enter your selection:  2\n"
     ]
    },
    {
     "name": "stdout",
     "output_type": "stream",
     "text": [
      "==============================\n"
     ]
    },
    {
     "name": "stdin",
     "output_type": "stream",
     "text": [
      "Add ticker:  jnj\n"
     ]
    },
    {
     "name": "stdout",
     "output_type": "stream",
     "text": [
      "Adding more shares to the existing stock with ticker: JNJ\n"
     ]
    },
    {
     "name": "stdin",
     "output_type": "stream",
     "text": [
      "Enter the number of additional shares:  2\n",
      "Enter the price per share for the new purchase:  164\n"
     ]
    },
    {
     "name": "stdout",
     "output_type": "stream",
     "text": [
      "Shares added to JNJ successfully!\n",
      "==============================\n",
      "        Main Menu\n",
      "==============================\n",
      "[1] View stock\n",
      "[2] Add stock\n",
      "[3] Search by ticker\n",
      "[4] Edit stock\n",
      "[5] Delete stock\n",
      "[0] Exit\n",
      "\n",
      "==============================\n"
     ]
    },
    {
     "name": "stdin",
     "output_type": "stream",
     "text": [
      "Enter your selection:  1\n"
     ]
    },
    {
     "name": "stdout",
     "output_type": "stream",
     "text": [
      "==============================\n",
      "[1] AMD\n",
      "[2] TSM\n",
      "[3] JNJ\n",
      "[0] Back\n",
      "\n"
     ]
    },
    {
     "name": "stdin",
     "output_type": "stream",
     "text": [
      "Enter the number of a stock to view details or [B] to go back:  3\n"
     ]
    },
    {
     "name": "stdout",
     "output_type": "stream",
     "text": [
      "======================================================================\n",
      "\n",
      "                Ticker: JNJ,\n",
      "                Full Name: Johnson & Johnson,\n",
      "                Shares: 5.00,\n",
      "                Price per Share: 166.93,\n",
      "                Current Price: 156.33,\n",
      "                Total Cost: 834.67,\n",
      "                Current Cost: 781.65,\n",
      "                Difference: -53.02\n",
      "\n",
      "======================================================================\n",
      "\n"
     ]
    },
    {
     "name": "stdin",
     "output_type": "stream",
     "text": [
      "Press Enter to continue... \n"
     ]
    },
    {
     "name": "stdout",
     "output_type": "stream",
     "text": [
      "[1] AMD\n",
      "[2] TSM\n",
      "[3] JNJ\n",
      "[0] Back\n",
      "\n"
     ]
    },
    {
     "name": "stdin",
     "output_type": "stream",
     "text": [
      "Enter the number of a stock to view details or [B] to go back:  0\n"
     ]
    },
    {
     "name": "stdout",
     "output_type": "stream",
     "text": [
      "==============================\n",
      "        Main Menu\n",
      "==============================\n",
      "[1] View stock\n",
      "[2] Add stock\n",
      "[3] Search by ticker\n",
      "[4] Edit stock\n",
      "[5] Delete stock\n",
      "[0] Exit\n",
      "\n",
      "==============================\n"
     ]
    },
    {
     "name": "stdin",
     "output_type": "stream",
     "text": [
      "Enter your selection:  2\n"
     ]
    },
    {
     "name": "stdout",
     "output_type": "stream",
     "text": [
      "==============================\n"
     ]
    },
    {
     "name": "stdin",
     "output_type": "stream",
     "text": [
      "Add ticker:  adbe\n"
     ]
    },
    {
     "name": "stdout",
     "output_type": "stream",
     "text": [
      "Ticker ADBE does not exist. Adding as a new stock.\n"
     ]
    },
    {
     "name": "stdin",
     "output_type": "stream",
     "text": [
      "Enter shares bought:  1\n",
      "Enter price per share bought:  549.1\n"
     ]
    },
    {
     "name": "stdout",
     "output_type": "stream",
     "text": [
      "Ticker ADBE added!\n",
      "==============================\n",
      "        Main Menu\n",
      "==============================\n",
      "[1] View stock\n",
      "[2] Add stock\n",
      "[3] Search by ticker\n",
      "[4] Edit stock\n",
      "[5] Delete stock\n",
      "[0] Exit\n",
      "\n",
      "==============================\n"
     ]
    },
    {
     "name": "stdin",
     "output_type": "stream",
     "text": [
      "Enter your selection:  1\n"
     ]
    },
    {
     "name": "stdout",
     "output_type": "stream",
     "text": [
      "==============================\n",
      "[1] AMD\n",
      "[2] TSM\n",
      "[3] JNJ\n",
      "[4] ADBE\n",
      "[0] Back\n",
      "\n"
     ]
    },
    {
     "name": "stdin",
     "output_type": "stream",
     "text": [
      "Enter the number of a stock to view details or [B] to go back:  4\n"
     ]
    },
    {
     "name": "stdout",
     "output_type": "stream",
     "text": [
      "======================================================================\n",
      "\n",
      "                Ticker: ADBE,\n",
      "                Full Name: Adobe Inc.,\n",
      "                Shares: 1.00,\n",
      "                Price per Share: 549.10,\n",
      "                Current Price: 559.63,\n",
      "                Total Cost: 549.1,\n",
      "                Current Cost: 559.63,\n",
      "                Difference: 10.53\n",
      "\n",
      "======================================================================\n",
      "\n"
     ]
    },
    {
     "name": "stdin",
     "output_type": "stream",
     "text": [
      "Press Enter to continue... \n"
     ]
    },
    {
     "name": "stdout",
     "output_type": "stream",
     "text": [
      "[1] AMD\n",
      "[2] TSM\n",
      "[3] JNJ\n",
      "[4] ADBE\n",
      "[0] Back\n",
      "\n"
     ]
    },
    {
     "name": "stdin",
     "output_type": "stream",
     "text": [
      "Enter the number of a stock to view details or [B] to go back:  0\n"
     ]
    },
    {
     "name": "stdout",
     "output_type": "stream",
     "text": [
      "==============================\n",
      "        Main Menu\n",
      "==============================\n",
      "[1] View stock\n",
      "[2] Add stock\n",
      "[3] Search by ticker\n",
      "[4] Edit stock\n",
      "[5] Delete stock\n",
      "[0] Exit\n",
      "\n",
      "==============================\n"
     ]
    },
    {
     "name": "stdin",
     "output_type": "stream",
     "text": [
      "Enter your selection:  4\n"
     ]
    },
    {
     "name": "stdout",
     "output_type": "stream",
     "text": [
      "==============================\n"
     ]
    },
    {
     "name": "stdin",
     "output_type": "stream",
     "text": [
      "Enter the ticker of the stock you want to edit:  adbe\n"
     ]
    },
    {
     "name": "stdout",
     "output_type": "stream",
     "text": [
      "Editing stock with ticker: ADBE\n",
      "\n",
      "What would you like to edit?\n",
      "[1] Shares Bought\n",
      "[2] Price per Share\n"
     ]
    },
    {
     "name": "stdin",
     "output_type": "stream",
     "text": [
      "Enter your choice:  2\n",
      "Enter the new price per share:  349.09\n"
     ]
    },
    {
     "name": "stdout",
     "output_type": "stream",
     "text": [
      "Stock updated successfully!\n",
      "==============================\n",
      "        Main Menu\n",
      "==============================\n",
      "[1] View stock\n",
      "[2] Add stock\n",
      "[3] Search by ticker\n",
      "[4] Edit stock\n",
      "[5] Delete stock\n",
      "[0] Exit\n",
      "\n",
      "==============================\n"
     ]
    },
    {
     "name": "stdin",
     "output_type": "stream",
     "text": [
      "Enter your selection:  1\n"
     ]
    },
    {
     "name": "stdout",
     "output_type": "stream",
     "text": [
      "==============================\n",
      "[1] AMD\n",
      "[2] TSM\n",
      "[3] JNJ\n",
      "[4] ADBE\n",
      "[0] Back\n",
      "\n"
     ]
    },
    {
     "name": "stdin",
     "output_type": "stream",
     "text": [
      "Enter the number of a stock to view details or [B] to go back:  4\n"
     ]
    },
    {
     "name": "stdout",
     "output_type": "stream",
     "text": [
      "======================================================================\n",
      "\n",
      "                Ticker: ADBE,\n",
      "                Full Name: Adobe Inc.,\n",
      "                Shares: 1.00,\n",
      "                Price per Share: 349.09,\n",
      "                Current Price: 559.63,\n",
      "                Total Cost: 349.09,\n",
      "                Current Cost: 559.63,\n",
      "                Difference: 210.54\n",
      "\n",
      "======================================================================\n",
      "\n"
     ]
    },
    {
     "name": "stdin",
     "output_type": "stream",
     "text": [
      "Press Enter to continue... \n"
     ]
    },
    {
     "name": "stdout",
     "output_type": "stream",
     "text": [
      "[1] AMD\n",
      "[2] TSM\n",
      "[3] JNJ\n",
      "[4] ADBE\n",
      "[0] Back\n",
      "\n"
     ]
    },
    {
     "name": "stdin",
     "output_type": "stream",
     "text": [
      "Enter the number of a stock to view details or [B] to go back:  0\n"
     ]
    },
    {
     "name": "stdout",
     "output_type": "stream",
     "text": [
      "==============================\n",
      "        Main Menu\n",
      "==============================\n",
      "[1] View stock\n",
      "[2] Add stock\n",
      "[3] Search by ticker\n",
      "[4] Edit stock\n",
      "[5] Delete stock\n",
      "[0] Exit\n",
      "\n",
      "==============================\n"
     ]
    },
    {
     "name": "stdin",
     "output_type": "stream",
     "text": [
      "Enter your selection:  0\n"
     ]
    },
    {
     "name": "stdout",
     "output_type": "stream",
     "text": [
      "==============================\n"
     ]
    }
   ],
   "source": [
    "%run main"
   ]
  },
  {
   "cell_type": "code",
   "execution_count": null,
   "id": "81078ded-089e-418c-a7c2-926eba5c1963",
   "metadata": {},
   "outputs": [],
   "source": []
  }
 ],
 "metadata": {
  "kernelspec": {
   "display_name": "Python 3 (ipykernel)",
   "language": "python",
   "name": "python3"
  },
  "language_info": {
   "codemirror_mode": {
    "name": "ipython",
    "version": 3
   },
   "file_extension": ".py",
   "mimetype": "text/x-python",
   "name": "python",
   "nbconvert_exporter": "python",
   "pygments_lexer": "ipython3",
   "version": "3.11.5"
  }
 },
 "nbformat": 4,
 "nbformat_minor": 5
}
